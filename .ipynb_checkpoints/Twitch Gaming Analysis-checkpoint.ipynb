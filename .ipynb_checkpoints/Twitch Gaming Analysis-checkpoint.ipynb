{
 "cells": [
  {
   "cell_type": "markdown",
   "id": "b0ae303b",
   "metadata": {},
   "source": [
    "# Introduction"
   ]
  },
  {
   "cell_type": "markdown",
   "id": "d12a60a9",
   "metadata": {},
   "source": [
    "## Goals\n",
    "- The goal of this project is to analyse the practice data provided by the Twitch team. This project will showcase bar graphs, pie charts and line graphs using Matplotlib."
   ]
  },
  {
   "cell_type": "markdown",
   "id": "db4f9096",
   "metadata": {},
   "source": [
    "## Data Source\n",
    "- Twitch Data: [Twitch](https://github.com/Codecademy-Curriculum/Codecademy-Learn-SQL-from-Scratch/tree/master/Twitch)"
   ]
  },
  {
   "cell_type": "markdown",
   "id": "32a93338",
   "metadata": {},
   "source": [
    "## Import Python Modules"
   ]
  },
  {
   "cell_type": "code",
   "execution_count": 4,
   "id": "2740c58c",
   "metadata": {},
   "outputs": [],
   "source": [
    "from matplotlib import pyplot as plt\n",
    "import pandas as pd\n",
    "import seaborn as sns\n",
    "import numpy as np\n",
    "\n",
    "%matplotlib inline"
   ]
  },
  {
   "cell_type": "markdown",
   "id": "c19d3739",
   "metadata": {},
   "source": [
    "### Loading and inspecting the CSVs"
   ]
  },
  {
   "cell_type": "code",
   "execution_count": 5,
   "id": "fcbc7db8",
   "metadata": {},
   "outputs": [
    {
     "data": {
      "text/html": [
       "<div>\n",
       "<style scoped>\n",
       "    .dataframe tbody tr th:only-of-type {\n",
       "        vertical-align: middle;\n",
       "    }\n",
       "\n",
       "    .dataframe tbody tr th {\n",
       "        vertical-align: top;\n",
       "    }\n",
       "\n",
       "    .dataframe thead th {\n",
       "        text-align: right;\n",
       "    }\n",
       "</style>\n",
       "<table border=\"1\" class=\"dataframe\">\n",
       "  <thead>\n",
       "    <tr style=\"text-align: right;\">\n",
       "      <th></th>\n",
       "      <th>time</th>\n",
       "      <th>device_id</th>\n",
       "      <th>login</th>\n",
       "      <th>channel</th>\n",
       "      <th>country</th>\n",
       "      <th>player</th>\n",
       "      <th>game</th>\n",
       "    </tr>\n",
       "  </thead>\n",
       "  <tbody>\n",
       "    <tr>\n",
       "      <th>0</th>\n",
       "      <td>2015-01-01 18:45:50</td>\n",
       "      <td>70e2b95b5ac0d4c227e46966658d16b3e044996e</td>\n",
       "      <td>5c2f5c1f19a7738e16ed0be551d865e8a8fce71d</td>\n",
       "      <td>jerry</td>\n",
       "      <td>BY</td>\n",
       "      <td>NaN</td>\n",
       "      <td>Dota 2</td>\n",
       "    </tr>\n",
       "    <tr>\n",
       "      <th>1</th>\n",
       "      <td>2015-01-01 01:16:57</td>\n",
       "      <td>f2b9065b55fd80d6aa653ce989b489f4ec5198be</td>\n",
       "      <td>0d77740e4fb5ce77d94f9f6c8ef1f762990d0344</td>\n",
       "      <td>elaine</td>\n",
       "      <td>HK</td>\n",
       "      <td>NaN</td>\n",
       "      <td>Devil May Cry 4: Special Edition</td>\n",
       "    </tr>\n",
       "    <tr>\n",
       "      <th>2</th>\n",
       "      <td>2015-01-01 16:22:10</td>\n",
       "      <td>d448ba963d7e1023dd1b0a40b95d4f6611750692</td>\n",
       "      <td>77ab14c1fb815e1c369ba0cf7d4c56b4fe489997</td>\n",
       "      <td>frank</td>\n",
       "      <td>GB</td>\n",
       "      <td>iphone_t</td>\n",
       "      <td>League of Legends</td>\n",
       "    </tr>\n",
       "    <tr>\n",
       "      <th>3</th>\n",
       "      <td>2015-01-01 03:58:13</td>\n",
       "      <td>8d6823dc52b400b50aebf269bf1f03a36d19eeaa</td>\n",
       "      <td>91cb88c0743761589273fc5e800e7743ece46494</td>\n",
       "      <td>frank</td>\n",
       "      <td>US</td>\n",
       "      <td>iphone_t</td>\n",
       "      <td>League of Legends</td>\n",
       "    </tr>\n",
       "    <tr>\n",
       "      <th>4</th>\n",
       "      <td>2015-01-01 11:47:35</td>\n",
       "      <td>16c1e39594d62358d27ae604ad43a071f0d86bc4</td>\n",
       "      <td>51a9234f83d656607cfd7f26690c12d2ffbce353</td>\n",
       "      <td>estelle</td>\n",
       "      <td>DE</td>\n",
       "      <td>NaN</td>\n",
       "      <td>Dota 2</td>\n",
       "    </tr>\n",
       "  </tbody>\n",
       "</table>\n",
       "</div>"
      ],
      "text/plain": [
       "                  time                                 device_id  \\\n",
       "0  2015-01-01 18:45:50  70e2b95b5ac0d4c227e46966658d16b3e044996e   \n",
       "1  2015-01-01 01:16:57  f2b9065b55fd80d6aa653ce989b489f4ec5198be   \n",
       "2  2015-01-01 16:22:10  d448ba963d7e1023dd1b0a40b95d4f6611750692   \n",
       "3  2015-01-01 03:58:13  8d6823dc52b400b50aebf269bf1f03a36d19eeaa   \n",
       "4  2015-01-01 11:47:35  16c1e39594d62358d27ae604ad43a071f0d86bc4   \n",
       "\n",
       "                                      login  channel country    player  \\\n",
       "0  5c2f5c1f19a7738e16ed0be551d865e8a8fce71d    jerry      BY       NaN   \n",
       "1  0d77740e4fb5ce77d94f9f6c8ef1f762990d0344   elaine      HK       NaN   \n",
       "2  77ab14c1fb815e1c369ba0cf7d4c56b4fe489997    frank      GB  iphone_t   \n",
       "3  91cb88c0743761589273fc5e800e7743ece46494    frank      US  iphone_t   \n",
       "4  51a9234f83d656607cfd7f26690c12d2ffbce353  estelle      DE       NaN   \n",
       "\n",
       "                               game  \n",
       "0                            Dota 2  \n",
       "1  Devil May Cry 4: Special Edition  \n",
       "2                 League of Legends  \n",
       "3                 League of Legends  \n",
       "4                            Dota 2  "
      ]
     },
     "execution_count": 5,
     "metadata": {},
     "output_type": "execute_result"
    }
   ],
   "source": [
    "dfChat = pd.read_csv(\"chat.csv\")\n",
    "dfChat.head()"
   ]
  },
  {
   "cell_type": "code",
   "execution_count": 6,
   "id": "38b04802",
   "metadata": {},
   "outputs": [
    {
     "name": "stdout",
     "output_type": "stream",
     "text": [
      "<class 'pandas.core.frame.DataFrame'>\n",
      "RangeIndex: 148562 entries, 0 to 148561\n",
      "Data columns (total 7 columns):\n",
      " #   Column     Non-Null Count   Dtype \n",
      "---  ------     --------------   ----- \n",
      " 0   time       148562 non-null  object\n",
      " 1   device_id  148560 non-null  object\n",
      " 2   login      148562 non-null  object\n",
      " 3   channel    148562 non-null  object\n",
      " 4   country    142641 non-null  object\n",
      " 5   player     37536 non-null   object\n",
      " 6   game       148221 non-null  object\n",
      "dtypes: object(7)\n",
      "memory usage: 7.9+ MB\n"
     ]
    }
   ],
   "source": [
    "dfChat.info()"
   ]
  },
  {
   "cell_type": "code",
   "execution_count": 7,
   "id": "6441a81e",
   "metadata": {},
   "outputs": [
    {
     "data": {
      "text/html": [
       "<div>\n",
       "<style scoped>\n",
       "    .dataframe tbody tr th:only-of-type {\n",
       "        vertical-align: middle;\n",
       "    }\n",
       "\n",
       "    .dataframe tbody tr th {\n",
       "        vertical-align: top;\n",
       "    }\n",
       "\n",
       "    .dataframe thead th {\n",
       "        text-align: right;\n",
       "    }\n",
       "</style>\n",
       "<table border=\"1\" class=\"dataframe\">\n",
       "  <thead>\n",
       "    <tr style=\"text-align: right;\">\n",
       "      <th></th>\n",
       "      <th>time</th>\n",
       "      <th>device_id</th>\n",
       "      <th>login</th>\n",
       "      <th>channel</th>\n",
       "      <th>country</th>\n",
       "      <th>player</th>\n",
       "      <th>game</th>\n",
       "      <th>stream_format</th>\n",
       "      <th>subscriber</th>\n",
       "    </tr>\n",
       "  </thead>\n",
       "  <tbody>\n",
       "    <tr>\n",
       "      <th>0</th>\n",
       "      <td>2015-01-01 18:33:52</td>\n",
       "      <td>40ffc2fa6534cf760becbdbf5311e31ad069e46e</td>\n",
       "      <td>085c1eb7b587bfe654f0df7b4ba7f4fc4013636c</td>\n",
       "      <td>frank</td>\n",
       "      <td>US</td>\n",
       "      <td>iphone_t</td>\n",
       "      <td>League of Legends</td>\n",
       "      <td>NaN</td>\n",
       "      <td>NaN</td>\n",
       "    </tr>\n",
       "    <tr>\n",
       "      <th>1</th>\n",
       "      <td>2015-01-01 23:35:33</td>\n",
       "      <td>9a8cc2b7162b99c0a0f501dc9a5ec4f68586a760</td>\n",
       "      <td>5ad49a7b408ce452140b180dd6efb57a9f4d22c7</td>\n",
       "      <td>george</td>\n",
       "      <td>US</td>\n",
       "      <td>site</td>\n",
       "      <td>DayZ</td>\n",
       "      <td>chunked</td>\n",
       "      <td>False</td>\n",
       "    </tr>\n",
       "    <tr>\n",
       "      <th>2</th>\n",
       "      <td>2015-01-01 04:39:38</td>\n",
       "      <td>2f9c3f9ee1033b71a3819564243f20ef3bec0183</td>\n",
       "      <td>5b9a43e68f019185f55615d0b83019dee4b5d06f</td>\n",
       "      <td>frank</td>\n",
       "      <td>US</td>\n",
       "      <td>site</td>\n",
       "      <td>League of Legends</td>\n",
       "      <td>chunked</td>\n",
       "      <td>False</td>\n",
       "    </tr>\n",
       "    <tr>\n",
       "      <th>3</th>\n",
       "      <td>2015-01-01 11:15:30</td>\n",
       "      <td>0cda8226ba2583424c80c3c1c22c1256b080ad17</td>\n",
       "      <td>02c7797faa4d8a3ff4b0c14ee1764b6817b53d0b</td>\n",
       "      <td>estelle</td>\n",
       "      <td>CH</td>\n",
       "      <td>site</td>\n",
       "      <td>Dota 2</td>\n",
       "      <td>high</td>\n",
       "      <td>False</td>\n",
       "    </tr>\n",
       "    <tr>\n",
       "      <th>4</th>\n",
       "      <td>2015-01-01 11:28:19</td>\n",
       "      <td>e3288ca5e3153aa85e32f64cdd994b7666968dcf</td>\n",
       "      <td>b920c228acbcbebee26d9c79f6eb73b73a9480c7</td>\n",
       "      <td>morty</td>\n",
       "      <td>FR</td>\n",
       "      <td>site</td>\n",
       "      <td>Heroes of the Storm</td>\n",
       "      <td>medium</td>\n",
       "      <td>False</td>\n",
       "    </tr>\n",
       "  </tbody>\n",
       "</table>\n",
       "</div>"
      ],
      "text/plain": [
       "                  time                                 device_id  \\\n",
       "0  2015-01-01 18:33:52  40ffc2fa6534cf760becbdbf5311e31ad069e46e   \n",
       "1  2015-01-01 23:35:33  9a8cc2b7162b99c0a0f501dc9a5ec4f68586a760   \n",
       "2  2015-01-01 04:39:38  2f9c3f9ee1033b71a3819564243f20ef3bec0183   \n",
       "3  2015-01-01 11:15:30  0cda8226ba2583424c80c3c1c22c1256b080ad17   \n",
       "4  2015-01-01 11:28:19  e3288ca5e3153aa85e32f64cdd994b7666968dcf   \n",
       "\n",
       "                                      login  channel country    player  \\\n",
       "0  085c1eb7b587bfe654f0df7b4ba7f4fc4013636c    frank      US  iphone_t   \n",
       "1  5ad49a7b408ce452140b180dd6efb57a9f4d22c7   george      US      site   \n",
       "2  5b9a43e68f019185f55615d0b83019dee4b5d06f    frank      US      site   \n",
       "3  02c7797faa4d8a3ff4b0c14ee1764b6817b53d0b  estelle      CH      site   \n",
       "4  b920c228acbcbebee26d9c79f6eb73b73a9480c7    morty      FR      site   \n",
       "\n",
       "                  game stream_format subscriber  \n",
       "0    League of Legends           NaN        NaN  \n",
       "1                 DayZ       chunked      False  \n",
       "2    League of Legends       chunked      False  \n",
       "3               Dota 2          high      False  \n",
       "4  Heroes of the Storm        medium      False  "
      ]
     },
     "execution_count": 7,
     "metadata": {},
     "output_type": "execute_result"
    }
   ],
   "source": [
    "dfVideo = pd.read_csv(\"video_play.csv\")\n",
    "dfVideo.head()"
   ]
  },
  {
   "cell_type": "code",
   "execution_count": 8,
   "id": "cf8a15ab",
   "metadata": {},
   "outputs": [
    {
     "name": "stdout",
     "output_type": "stream",
     "text": [
      "<class 'pandas.core.frame.DataFrame'>\n",
      "RangeIndex: 526299 entries, 0 to 526298\n",
      "Data columns (total 9 columns):\n",
      " #   Column         Non-Null Count   Dtype \n",
      "---  ------         --------------   ----- \n",
      " 0   time           526299 non-null  object\n",
      " 1   device_id      526271 non-null  object\n",
      " 2   login          526299 non-null  object\n",
      " 3   channel        526299 non-null  object\n",
      " 4   country        509135 non-null  object\n",
      " 5   player         526299 non-null  object\n",
      " 6   game           523175 non-null  object\n",
      " 7   stream_format  267332 non-null  object\n",
      " 8   subscriber     273814 non-null  object\n",
      "dtypes: object(9)\n",
      "memory usage: 36.1+ MB\n"
     ]
    }
   ],
   "source": [
    "dfVideo.info()"
   ]
  },
  {
   "cell_type": "code",
   "execution_count": null,
   "id": "ea76371b",
   "metadata": {},
   "outputs": [],
   "source": []
  }
 ],
 "metadata": {
  "kernelspec": {
   "display_name": "Python 3 (ipykernel)",
   "language": "python",
   "name": "python3"
  },
  "language_info": {
   "codemirror_mode": {
    "name": "ipython",
    "version": 3
   },
   "file_extension": ".py",
   "mimetype": "text/x-python",
   "name": "python",
   "nbconvert_exporter": "python",
   "pygments_lexer": "ipython3",
   "version": "3.11.5"
  }
 },
 "nbformat": 4,
 "nbformat_minor": 5
}
