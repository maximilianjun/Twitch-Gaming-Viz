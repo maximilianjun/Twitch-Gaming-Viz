{
 "cells": [
  {
   "cell_type": "markdown",
   "id": "b5ba6a5d",
   "metadata": {},
   "source": [
    "# Introduction"
   ]
  },
  {
   "cell_type": "markdown",
   "id": "63ed8adc",
   "metadata": {},
   "source": [
    "## Goals\n",
    "- The goal of this project is to analyse the practice data provided by the Twitch team. This project will showcase bar graphs, pie charts and line graphs using Matplotlib."
   ]
  },
  {
   "cell_type": "markdown",
   "id": "5141dc68",
   "metadata": {},
   "source": [
    "## Data Source\n",
    "- Twitch Data: [Twitch](https://github.com/Codecademy-Curriculum/Codecademy-Learn-SQL-from-Scratch/tree/master/Twitch)"
   ]
  },
  {
   "cell_type": "markdown",
   "id": "c02c70d6",
   "metadata": {},
   "source": [
    "## Import Python Modules"
   ]
  },
  {
   "cell_type": "code",
   "execution_count": 4,
   "id": "300fcec1",
   "metadata": {},
   "outputs": [],
   "source": [
    "from matplotlib import pyplot as plt\n",
    "import pandas as pd\n",
    "import seaborn as sns\n",
    "import numpy as np\n",
    "\n",
    "%matplotlib inline"
   ]
  },
  {
   "cell_type": "code",
   "execution_count": null,
   "id": "18e9c694",
   "metadata": {},
   "outputs": [],
   "source": []
  }
 ],
 "metadata": {
  "kernelspec": {
   "display_name": "Python 3 (ipykernel)",
   "language": "python",
   "name": "python3"
  },
  "language_info": {
   "codemirror_mode": {
    "name": "ipython",
    "version": 3
   },
   "file_extension": ".py",
   "mimetype": "text/x-python",
   "name": "python",
   "nbconvert_exporter": "python",
   "pygments_lexer": "ipython3",
   "version": "3.11.5"
  }
 },
 "nbformat": 4,
 "nbformat_minor": 5
}
